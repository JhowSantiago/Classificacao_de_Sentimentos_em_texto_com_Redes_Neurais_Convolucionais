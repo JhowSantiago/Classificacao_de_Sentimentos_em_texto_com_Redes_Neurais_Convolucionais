{
  "nbformat": 4,
  "nbformat_minor": 0,
  "metadata": {
    "colab": {
      "provenance": [],
      "machine_shape": "hm",
      "gpuType": "T4",
      "include_colab_link": true
    },
    "kernelspec": {
      "name": "python3",
      "display_name": "Python 3"
    },
    "accelerator": "GPU"
  },
  "cells": [
    {
      "cell_type": "markdown",
      "metadata": {
        "id": "view-in-github",
        "colab_type": "text"
      },
      "source": [
        "<a href=\"https://colab.research.google.com/github/JhowSantiago/Classificacao_de_Sentimentos_em_texto_com_Redes_Neurais_Convolucionais/blob/main/Tradu%C3%A7%C3%A3o_entre_idiomas_com_Transformer.ipynb\" target=\"_parent\"><img src=\"https://colab.research.google.com/assets/colab-badge.svg\" alt=\"Open In Colab\"/></a>"
      ]
    },
    {
      "cell_type": "markdown",
      "metadata": {
        "id": "m9JJ7FBw84tG"
      },
      "source": [
        "# Etapa 1: Importação das bibliotecas"
      ]
    },
    {
      "cell_type": "code",
      "metadata": {
        "id": "ZbcvtPlp3YWu"
      },
      "source": [
        "# Importando a biblioteca NumPy com o alias 'np'\n",
        "import numpy as np  # Manipulação de arrays e operações matemáticas\n",
        "\n",
        "# Importando a biblioteca padrão 'math'\n",
        "import math  # Funções matemáticas comuns\n",
        "\n",
        "# Importando o módulo 're' da biblioteca padrão\n",
        "import re  # Manipulação de expressões regulares\n",
        "\n",
        "# Importando a biblioteca 'time' da biblioteca padrão\n",
        "import time  # Medição de tempo e criação de atrasos\n",
        "\n",
        "# Importando a biblioteca 'zipfile' da biblioteca padrão\n",
        "import zipfile  # Trabalhar com arquivos ZIP\n",
        "\n",
        "# Importando o módulo 'random' da biblioteca padrão\n",
        "import random  # Geração de números aleatórios\n",
        "\n",
        "# Importando o módulo 'drive' da biblioteca 'google.colab'\n",
        "from google.colab import drive  # Integração com o Google Drive\n",
        "\n",
        "# Importando o módulo 'tensorflow' com a versão 2.x\n",
        "%tensorflow_version 2.x\n",
        "import tensorflow as tf  # Biblioteca para deep learning\n",
        "\n",
        "# Importando o submódulo 'layers' do TensorFlow Keras\n",
        "from tensorflow.keras import layers  # Componentes para construir redes neurais\n",
        "\n",
        "# Importando a biblioteca 'tensorflow_datasets' com o alias 'tfds'\n",
        "import tensorflow_datasets as tfds  # Conjuntos de dados prontos para uso com TensorFlow\n"
      ],
      "execution_count": null,
      "outputs": []
    },
    {
      "cell_type": "markdown",
      "metadata": {
        "id": "BQN8jwx48_yU"
      },
      "source": [
        "# Etapa 2: Pré-processamento dos dados"
      ]
    },
    {
      "cell_type": "markdown",
      "metadata": {
        "id": "bPlOT-2mlw0r"
      },
      "source": [
        "## Carregamento da base de dados\n",
        "\n",
        "- Bases de dados: https://www.statmt.org/europarl/\n",
        "- parallel corpus Portuguese-English, 189 MB, 04/1996-11/2011"
      ]
    },
    {
      "cell_type": "code",
      "metadata": {
        "id": "eQpbl1pXCR0p",
        "colab": {
          "base_uri": "https://localhost:8080/"
        },
        "outputId": "92b915be-9be7-40e6-ddc6-d410de612d7f"
      },
      "source": [
        "#conectando com o google drive\n",
        "drive.mount(\"/content/drive\")"
      ],
      "execution_count": 2,
      "outputs": [
        {
          "output_type": "stream",
          "name": "stdout",
          "text": [
            "Mounted at /content/drive\n"
          ]
        }
      ]
    },
    {
      "cell_type": "code",
      "metadata": {
        "id": "JwnapSjqjIEN"
      },
      "source": [
        "# Definindo o caminho do arquivo ZIP\n",
        "path = '/content/drive/MyDrive/pt-en.zip'\n",
        "\n",
        "# Criando um objeto ZipFile para trabalhar com o arquivo ZIP no modo leitura ('r')\n",
        "zip_object = zipfile.ZipFile(file=path, mode='r')\n",
        "\n",
        "# Extraindo todo o conteúdo do arquivo ZIP para o diretório atual ('./')\n",
        "zip_object.extractall('./')\n",
        "\n",
        "# Fechando o objeto ZipFile para liberar recursos\n",
        "zip_object.close()\n"
      ],
      "execution_count": 3,
      "outputs": []
    },
    {
      "cell_type": "code",
      "metadata": {
        "id": "8jFJaq1-OpPS"
      },
      "source": [
        "# Abrindo o arquivo 'europarl-v7.pt-en.en' no modo leitura ('r') com codificação UTF-8\n",
        "with open('/content/pt-en/europarl-v7.pt-en.en', mode='r', encoding='utf-8') as f:\n",
        "    europarl_en = f.read()  # Lendo o conteúdo do arquivo e armazenando na variável 'europarl_en'\n",
        "\n",
        "# Abrindo o arquivo 'europarl-v7.pt-en.pt' no modo leitura ('r') com codificação UTF-8\n",
        "with open('/content/pt-en/europarl-v7.pt-en.pt', mode='r', encoding='utf-8') as f:\n",
        "    europarl_pt = f.read()  # Lendo o conteúdo do arquivo e armazenando na variável 'europarl_pt'\n"
      ],
      "execution_count": 4,
      "outputs": []
    },
    {
      "cell_type": "code",
      "metadata": {
        "id": "9kGhnz3UO_K3",
        "colab": {
          "base_uri": "https://localhost:8080/",
          "height": 55
        },
        "outputId": "b249bc17-c9d3-4f98-eef6-6fd1c694e77b"
      },
      "source": [
        "#visualizando algum texto da base de dados en\n",
        "europarl_en[0:100]"
      ],
      "execution_count": 5,
      "outputs": [
        {
          "output_type": "execute_result",
          "data": {
            "text/plain": [
              "'Resumption of the session\\nI declare resumed the session of the European Parliament adjourned on Frid'"
            ],
            "application/vnd.google.colaboratory.intrinsic+json": {
              "type": "string"
            }
          },
          "metadata": {},
          "execution_count": 5
        }
      ]
    },
    {
      "cell_type": "code",
      "metadata": {
        "id": "D5eZYjTiPM5k"
      },
      "source": [
        "# Dividindo o conteúdo do arquivo 'europarl_en' em linhas usando o caractere de quebra de linha '\\n'\n",
        "en = europarl_en.split('\\n')"
      ],
      "execution_count": 6,
      "outputs": []
    },
    {
      "cell_type": "code",
      "metadata": {
        "id": "-eQ2zW5NPSqY"
      },
      "source": [
        "# Calculando o tamanho (número de elementos) da lista 'en'\n",
        "tamanho_en = len(en)"
      ],
      "execution_count": 7,
      "outputs": []
    },
    {
      "cell_type": "code",
      "metadata": {
        "id": "WJSDFBzFPWQa"
      },
      "source": [
        "#CASO QUERIA VISUALIZAR TODO O TEXTO\n",
        "\n",
        "#en"
      ],
      "execution_count": 9,
      "outputs": []
    },
    {
      "cell_type": "code",
      "metadata": {
        "id": "0rVFAtegPeV9"
      },
      "source": [
        "# Dividindo o conteúdo do arquivo 'europarl_pt' em linhas usando o caractere de quebra de linha '\\n'\n",
        "pt = europarl_pt.split('\\n')"
      ],
      "execution_count": 8,
      "outputs": []
    },
    {
      "cell_type": "code",
      "metadata": {
        "id": "x_DzVSHJPvxD",
        "colab": {
          "base_uri": "https://localhost:8080/"
        },
        "outputId": "8f65fa64-263a-4a4a-a3bb-36e0b266cf66"
      },
      "source": [
        "# Calculando o tamanho (número de elementos) da lista 'pt'\n",
        "len(pt)"
      ],
      "execution_count": 10,
      "outputs": [
        {
          "output_type": "execute_result",
          "data": {
            "text/plain": [
              "1960408"
            ]
          },
          "metadata": {},
          "execution_count": 10
        }
      ]
    },
    {
      "cell_type": "code",
      "metadata": {
        "id": "3JzKYspxPzF6"
      },
      "source": [
        "# Loop que será executado 5 vezes\n",
        "for _ in range(5):\n",
        "    print('------------------------')  # Imprime uma linha de traços como separador visual\n",
        "\n",
        "    # Gerando um número inteiro aleatório entre 0 e o tamanho da lista 'en' - 1\n",
        "    i = random.randint(0, len(en) - 1)\n",
        "\n",
        "    # Imprime a linha aleatória correspondente da lista 'en'\n",
        "    print(en[i])\n",
        "\n",
        "    # Imprime a linha aleatória correspondente da lista 'pt'\n",
        "    print(pt[i])\n"
      ],
      "execution_count": null,
      "outputs": []
    },
    {
      "cell_type": "markdown",
      "metadata": {
        "id": "TEFw0D2vP_Dl"
      },
      "source": [
        "## Limpeza dos dados"
      ]
    },
    {
      "cell_type": "code",
      "metadata": {
        "id": "FstFwA_qQf--"
      },
      "source": [
        "# Copiando o conteúdo da variável 'europarl_en' para 'corpus_en'\n",
        "corpus_en = europarl_en\n",
        "\n",
        "# Substituindo pontos seguidos de números, letras minúsculas ou letras maiúsculas por '.$$$'\n",
        "corpus_en = re.sub(r\"\\.(?=[0-9]|[a-z]|[A-Z])\", \".$$$\", corpus_en)\n",
        "\n",
        "# Removendo as ocorrências de '.$$$' (pontos inseridos anteriormente)\n",
        "corpus_en = re.sub(r\".\\$\\$\\$\", '', corpus_en)\n",
        "\n",
        "# Substituindo múltiplos espaços consecutivos por um único espaço\n",
        "corpus_en = re.sub(r\" +\", \" \", corpus_en)\n",
        "\n",
        "# Dividindo o conteúdo de 'corpus_en' em linhas usando o caractere de quebra de linha '\\n'\n",
        "corpus_en = corpus_en.split('\\n')"
      ],
      "execution_count": 12,
      "outputs": []
    },
    {
      "cell_type": "code",
      "metadata": {
        "id": "jfCfrBI9RclA"
      },
      "source": [
        "# Copiando o conteúdo da variável 'europarl_pt' para 'corpus_pt'\n",
        "corpus_pt = europarl_pt\n",
        "\n",
        "# Substituindo pontos seguidos de números, letras minúsculas ou letras maiúsculas por '.$$$'\n",
        "corpus_pt = re.sub(r\"\\.(?=[0-9]|[a-z]|[A-Z])\", \".$$$\", corpus_pt)\n",
        "\n",
        "# Removendo as ocorrências de '.$$$' (pontos inseridos anteriormente)\n",
        "corpus_pt = re.sub(r\".\\$\\$\\$\", '', corpus_pt)\n",
        "\n",
        "# Substituindo múltiplos espaços consecutivos por um único espaço\n",
        "corpus_pt = re.sub(r\" +\", \" \", corpus_pt)\n",
        "\n",
        "# Dividindo o conteúdo de 'corpus_pt' em linhas usando o caractere de quebra de linha '\\n'\n",
        "corpus_pt = corpus_pt.split('\\n')\n"
      ],
      "execution_count": 13,
      "outputs": []
    },
    {
      "cell_type": "code",
      "metadata": {
        "id": "ZHFALYvTRlnd",
        "colab": {
          "base_uri": "https://localhost:8080/"
        },
        "outputId": "64482240-c478-45cb-c1ce-3006109d7114"
      },
      "source": [
        "#verificando se possuem o mesmo tamanho\n",
        "len(corpus_en)"
      ],
      "execution_count": 14,
      "outputs": [
        {
          "output_type": "execute_result",
          "data": {
            "text/plain": [
              "1960408"
            ]
          },
          "metadata": {},
          "execution_count": 14
        }
      ]
    },
    {
      "cell_type": "code",
      "metadata": {
        "id": "ztnDRbp7RyUR",
        "colab": {
          "base_uri": "https://localhost:8080/"
        },
        "outputId": "49070596-de37-42c3-84ac-1e5c7fcc503d"
      },
      "source": [
        "#verificando se possuem o mesmo tamanho\n",
        "len(corpus_pt)"
      ],
      "execution_count": 15,
      "outputs": [
        {
          "output_type": "execute_result",
          "data": {
            "text/plain": [
              "1960408"
            ]
          },
          "metadata": {},
          "execution_count": 15
        }
      ]
    },
    {
      "cell_type": "markdown",
      "metadata": {
        "id": "s-Y9v8-Tozl2"
      },
      "source": [
        "\n",
        "## Tokenização"
      ]
    },
    {
      "cell_type": "code",
      "metadata": {
        "id": "g2P1ghMRSY8L",
        "colab": {
          "base_uri": "https://localhost:8080/"
        },
        "outputId": "fb1dd75e-ab7b-403b-ab01-3e09417b1125"
      },
      "source": [
        "2**13"
      ],
      "execution_count": 17,
      "outputs": [
        {
          "output_type": "execute_result",
          "data": {
            "text/plain": [
              "8192"
            ]
          },
          "metadata": {},
          "execution_count": 17
        }
      ]
    },
    {
      "cell_type": "code",
      "metadata": {
        "id": "gpv4D_w3SHsV"
      },
      "source": [
        "# Criando um tokenizador para o texto em inglês com base no corpus 'corpus_en'\n",
        "# O tokenizador será do tipo SubwordTextEncoder, que divide o texto em subpalavras\n",
        "# target_vocab_size especifica o tamanho máximo do vocabulário gerado pelo tokenizador\n",
        "tokenizer_en = tfds.deprecated.text.SubwordTextEncoder.build_from_corpus(corpus_en, target_vocab_size=2**13)"
      ],
      "execution_count": 22,
      "outputs": []
    },
    {
      "cell_type": "code",
      "metadata": {
        "id": "mbs8ymTsTYbi",
        "colab": {
          "base_uri": "https://localhost:8080/"
        },
        "outputId": "eb91d79b-8d9c-424e-9cfa-c90e742b3e69"
      },
      "source": [
        "#tamanho do vocabulario EN\n",
        "tokenizer_en.vocab_size"
      ],
      "execution_count": 23,
      "outputs": [
        {
          "output_type": "execute_result",
          "data": {
            "text/plain": [
              "8191"
            ]
          },
          "metadata": {},
          "execution_count": 23
        }
      ]
    },
    {
      "cell_type": "code",
      "metadata": {
        "id": "w4W7---rTeB5"
      },
      "source": [
        "# Criando um tokenizador para o texto em portugues com base no corpus 'corpus_pt'\n",
        "# O tokenizador será do tipo SubwordTextEncoder, que divide o texto em subpalavras\n",
        "# target_vocab_size especifica o tamanho máximo do vocabulário gerado pelo tokenizador\n",
        "tokenizer_pt = tfds.deprecated.text.SubwordTextEncoder.build_from_corpus(corpus_pt, target_vocab_size=2**13)"
      ],
      "execution_count": 25,
      "outputs": []
    },
    {
      "cell_type": "code",
      "metadata": {
        "id": "T8pvMbjfU6m8",
        "colab": {
          "base_uri": "https://localhost:8080/"
        },
        "outputId": "56083cc9-0827-4aed-f97e-d8a9e9c546be"
      },
      "source": [
        "#tamanho do vocabulario em PT\n",
        "tokenizer_pt.vocab_size"
      ],
      "execution_count": 26,
      "outputs": [
        {
          "output_type": "execute_result",
          "data": {
            "text/plain": [
              "8116"
            ]
          },
          "metadata": {},
          "execution_count": 26
        }
      ]
    },
    {
      "cell_type": "code",
      "metadata": {
        "id": "RBK7J_fwVB-K"
      },
      "source": [
        "vocab_size_en = tokenizer_en.vocab_size + 2\n",
        "vocab_size_pt = tokenizer_pt.vocab_size + 2"
      ],
      "execution_count": 27,
      "outputs": []
    },
    {
      "cell_type": "code",
      "metadata": {
        "id": "TUg9yHNnVR0o"
      },
      "source": [
        "#criando efetivamente as entradas que vai ser passada para a rede neural (atributos previsores)\n",
        "#inputs = lista que vai conter os dados em EN\n",
        "#vocab_size_en - 2 = token de inicio de frase(8191)\n",
        "#+ tokenizer_en.encode(sentence) =  passamos um texto e ele vai retornar numero\n",
        "#+ vocab_size_en - 1 = token de final de frase(8192)\n",
        "# for sentence in corpus_en  = Iterando por cada frase no corpus em inglês\n",
        "inputs = [[vocab_size_en - 2] + tokenizer_en.encode(sentence) + [vocab_size_en - 1] for sentence in corpus_en]"
      ],
      "execution_count": null,
      "outputs": []
    },
    {
      "cell_type": "markdown",
      "source": [
        "![arquitetura transformer (inputs).png](data:image/png;base64,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)"
      ],
      "metadata": {
        "id": "d6XnKMeCKSUd"
      }
    },
    {
      "cell_type": "code",
      "metadata": {
        "id": "zKUVY0_OVpoN"
      },
      "source": [
        "# Loop que será executado 5 vezes\n",
        "# Obtendo um índice aleatório dentro do intervalo válido para a lista 'inputs'\n",
        "for _ in range(5):\n",
        "  print(inputs[random.randint(0, len(inputs) -  1)])\n",
        ""
      ],
      "execution_count": null,
      "outputs": []
    },
    {
      "cell_type": "code",
      "metadata": {
        "id": "dUNLcWH1WQ5d"
      },
      "source": [
        "#outputs = lista que vai conter os dados em pt (aqueles dados que queremos fazer a previsão)\n",
        "#vocab_size_en - 2 = token de inicio de frase(8191)\n",
        "#+ tokenizer_en.encode(sentence) =  passamos um texto e ele vai retornar numero\n",
        "#+ vocab_size_en - 1 = token de final de frase(8192)\n",
        "# for sentence in corpus_en  = Iterando por cada frase no corpus em pt\n",
        "outputs = [[vocab_size_pt - 2] + tokenizer_pt.encode(sentence) + [vocab_size_pt - 1] for sentence in corpus_pt]"
      ],
      "execution_count": null,
      "outputs": []
    },
    {
      "cell_type": "markdown",
      "source": [
        "![arquitetura transformer (outputs).png](data:image/png;base64,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)"
      ],
      "metadata": {
        "id": "b4bqkqluLTL7"
      }
    },
    {
      "cell_type": "code",
      "metadata": {
        "id": "gi77Y1u-W5Sb"
      },
      "source": [
        "# Loop que será executado 5 vezes\n",
        "# Obtendo um índice aleatório dentro do intervalo válido para a lista 'outputs'\n",
        "for _ in range(5):\n",
        "  print(outputs[random.randint(0, len(outputs) - 1)])"
      ],
      "execution_count": null,
      "outputs": []
    },
    {
      "cell_type": "markdown",
      "metadata": {
        "id": "bG6AlcFMpC5C"
      },
      "source": [
        "## Remoção de sentenças muito longas"
      ]
    },
    {
      "cell_type": "code",
      "metadata": {
        "id": "beBpYgWmX7Ug"
      },
      "source": [
        "max_length = 15\n",
        "idx_to_remove = [count for count, sent in enumerate(inputs) if len(sent) > max_length]"
      ],
      "execution_count": null,
      "outputs": []
    },
    {
      "cell_type": "code",
      "metadata": {
        "id": "M7Y51ZGxYgQC"
      },
      "source": [
        "len(idx_to_remove)"
      ],
      "execution_count": null,
      "outputs": []
    },
    {
      "cell_type": "markdown",
      "metadata": {
        "id": "1Gvs2dnOYxmd"
      },
      "source": [
        "0 - 1\n",
        "1 - 13\n",
        "2 - 15"
      ]
    },
    {
      "cell_type": "code",
      "metadata": {
        "id": "KhGXWxrKYq0d"
      },
      "source": [
        "for idx in reversed(idx_to_remove):\n",
        "  del inputs[idx]\n",
        "  del outputs[idx]"
      ],
      "execution_count": null,
      "outputs": []
    },
    {
      "cell_type": "code",
      "metadata": {
        "id": "iLFvIk5LaUvL"
      },
      "source": [
        "idx_to_remove = [count for count, sent in enumerate(outputs) if len(sent) > max_length]"
      ],
      "execution_count": null,
      "outputs": []
    },
    {
      "cell_type": "code",
      "metadata": {
        "id": "dF9Uyfizcn4D"
      },
      "source": [
        "len(idx_to_remove)"
      ],
      "execution_count": null,
      "outputs": []
    },
    {
      "cell_type": "code",
      "metadata": {
        "id": "EWdKUhYOcw66"
      },
      "source": [
        "for idx in reversed(idx_to_remove):\n",
        "  del inputs[idx]\n",
        "  del outputs[idx]"
      ],
      "execution_count": null,
      "outputs": []
    },
    {
      "cell_type": "code",
      "metadata": {
        "id": "DWgpUnGGc0_I"
      },
      "source": [
        "len(inputs)"
      ],
      "execution_count": null,
      "outputs": []
    },
    {
      "cell_type": "code",
      "metadata": {
        "id": "_ncA-qtvc3mU"
      },
      "source": [
        "len(outputs)"
      ],
      "execution_count": null,
      "outputs": []
    },
    {
      "cell_type": "markdown",
      "metadata": {
        "id": "Ypm8h5aZQTZ1"
      },
      "source": [
        "## Padding e batches"
      ]
    },
    {
      "cell_type": "code",
      "metadata": {
        "id": "NdABR5kof67b"
      },
      "source": [
        "inputs = tf.keras.preprocessing.sequence.pad_sequences(inputs, value=0, padding = 'post', maxlen=max_length)\n",
        "outputs = tf.keras.preprocessing.sequence.pad_sequences(outputs, value=0, padding = 'post', maxlen=max_length)"
      ],
      "execution_count": null,
      "outputs": []
    },
    {
      "cell_type": "code",
      "metadata": {
        "id": "jQkr9qj2ge1P"
      },
      "source": [
        "for _ in range(5):\n",
        "  print(outputs[random.randint(0, len(outputs) - 1)])"
      ],
      "execution_count": null,
      "outputs": []
    },
    {
      "cell_type": "markdown",
      "metadata": {
        "id": "Wgh_KgNJPlvf"
      },
      "source": [
        "from_tensor_slices: https://www.geeksforgeeks.org/tensorflow-tf-data-dataset-from_tensor_slices/\n",
        "\n",
        "cache e prefetch: https://www.tensorflow.org/guide/data_performance"
      ]
    },
    {
      "cell_type": "code",
      "metadata": {
        "id": "lTL-bfDsgoo0"
      },
      "source": [
        "batch_size = 64\n",
        "buffer_size = 20000\n",
        "\n",
        "dataset = tf.data.Dataset.from_tensor_slices((inputs, outputs))\n",
        "dataset = dataset.cache()\n",
        "dataset = dataset.shuffle(buffer_size).batch(batch_size)\n",
        "dataset = dataset.prefetch(tf.data.experimental.AUTOTUNE)"
      ],
      "execution_count": null,
      "outputs": []
    },
    {
      "cell_type": "markdown",
      "metadata": {
        "id": "ycT0YqydRcUd"
      },
      "source": [
        "# Etapa 3: Construção do modelo"
      ]
    },
    {
      "cell_type": "markdown",
      "metadata": {
        "id": "-SBoH8G4XyR9"
      },
      "source": [
        "## Embedding"
      ]
    },
    {
      "cell_type": "markdown",
      "metadata": {
        "id": "7G9C3ucmJ86I"
      },
      "source": [
        "Positional encoding:\n",
        "\n",
        "$PE_{(pos,2i)} =\\sin(pos/10000^{2i/dmodel})$\n",
        "\n",
        "$PE_{(pos,2i+1)} =\\cos(pos/10000^{2i/dmodel})$"
      ]
    },
    {
      "cell_type": "markdown",
      "metadata": {
        "id": "hfzJfp_RmhyX"
      },
      "source": [
        "- The positional encodings have the same dimension dmodel\n",
        "as the embeddings, so that the two can be summed"
      ]
    },
    {
      "cell_type": "code",
      "metadata": {
        "id": "e2wc6sYlX0dr"
      },
      "source": [
        "class PositionalEncoding(layers.Layer):\n",
        "\n",
        "    def __init__(self):\n",
        "      super(PositionalEncoding, self).__init__()\n",
        "\n",
        "    def get_angles(self, pos, i, d_model):\n",
        "      angles = 1 / np.power(10000., (2*(i // 2)) / np.float32(d_model))\n",
        "      return pos * angles # (seq_lenght, d_model)\n",
        "\n",
        "    def call(self, inputs):\n",
        "      seq_lenght = inputs.shape.as_list()[-2]\n",
        "      d_model = inputs.shape.as_list()[-1]\n",
        "      angles = self.get_angles(np.arange(seq_lenght)[:, np.newaxis],\n",
        "                               np.arange(d_model)[np.newaxis, :], d_model)\n",
        "      angles[:, 0::2] = np.sin(angles[:, 0::2])\n",
        "      angles[:, 1::2] = np.cos(angles[:, 1::2])\n",
        "      pos_encoding = angles[np.newaxis, ...]\n",
        "      return inputs + tf.cast(pos_encoding, tf.float32)"
      ],
      "execution_count": null,
      "outputs": []
    },
    {
      "cell_type": "markdown",
      "metadata": {
        "id": "lcw8YIQqRhOJ"
      },
      "source": [
        "## Mecanismo de atenção"
      ]
    },
    {
      "cell_type": "markdown",
      "metadata": {
        "id": "3sffhwwvX-wj"
      },
      "source": [
        "### Cálculo da atenção"
      ]
    },
    {
      "cell_type": "markdown",
      "metadata": {
        "id": "7VBuW6lESLDX"
      },
      "source": [
        "$Attention(Q, K, V ) = \\text{softmax}\\left(\\dfrac{QK^T}{\\sqrt{d_k}}\\right)V $"
      ]
    },
    {
      "cell_type": "code",
      "metadata": {
        "id": "2rEoCNJURbrT"
      },
      "source": [
        "def scaled_dot_product_attention(queries, keys, values, mask):\n",
        "  product = tf.matmul(queries, keys, transpose_b=True)\n",
        "  keys_dim = tf.cast(tf.shape(keys)[-1], tf.float32)\n",
        "  scaled_product = product / tf.math.sqrt(keys_dim)\n",
        "\n",
        "  if mask is not None:\n",
        "    scaled_product += (mask * -1e9) # 0.0000000001\n",
        "\n",
        "  attention = tf.matmul(tf.nn.softmax(scaled_product, axis=-1), values)\n",
        "  return attention"
      ],
      "execution_count": null,
      "outputs": []
    },
    {
      "cell_type": "markdown",
      "metadata": {
        "id": "-MjtvXrfYEx7"
      },
      "source": [
        "### Multi-head attention sublayer"
      ]
    },
    {
      "cell_type": "code",
      "metadata": {
        "id": "lvq4I9uTX5p7"
      },
      "source": [
        "class MultiHeadAttention(layers.Layer):\n",
        "\n",
        "    def __init__(self, nb_proj):\n",
        "      super(MultiHeadAttention, self).__init__()\n",
        "      self.nb_proj = nb_proj\n",
        "\n",
        "    def build(self, input_shape):\n",
        "      self.d_model = input_shape[-1]\n",
        "      assert self.d_model % self.nb_proj == 0\n",
        "\n",
        "      self.d_proj = self.d_model // self.nb_proj\n",
        "\n",
        "      self.query_lin = layers.Dense(units = self.d_model)\n",
        "      self.key_lin = layers.Dense(units = self.d_model)\n",
        "      self.value_lin = layers.Dense(units = self.d_model)\n",
        "\n",
        "      self.final_lin = layers.Dense(units = self.d_model)\n",
        "\n",
        "    def split_proj(self, inputs, batch_size): # inputs: (batch_size, seq_lenght, d_model)\n",
        "      shape = (batch_size, -1, self.nb_proj, self.d_proj)\n",
        "      splited_inputs = tf.reshape(inputs, shape = shape) # (batch_size, seq_lenght, nb_proj, d_proj)\n",
        "      return tf.transpose(splited_inputs, perm=[0, 2, 1, 3]) # (batch_size, nb_proj, seq_lenght, d_proj)\n",
        "\n",
        "    def call(self, queries, keys, values, mask):\n",
        "      batch_size = tf.shape(queries)[0]\n",
        "\n",
        "      queries = self.query_lin(queries)\n",
        "      keys = self.key_lin(keys)\n",
        "      values = self.value_lin(values)\n",
        "\n",
        "      queries = self.split_proj(queries, batch_size)\n",
        "      keys = self.split_proj(keys, batch_size)\n",
        "      values = self.split_proj(values, batch_size)\n",
        "\n",
        "      attention = scaled_dot_product_attention(queries, keys, values, mask)\n",
        "\n",
        "      attention = tf.transpose(attention, perm=[0, 2, 1, 3])\n",
        "\n",
        "      concat_attention = tf.reshape(attention, shape=(batch_size, -1, self.d_model))\n",
        "\n",
        "      outputs = self.final_lin(concat_attention)\n",
        "\n",
        "      return outputs"
      ],
      "execution_count": null,
      "outputs": []
    },
    {
      "cell_type": "markdown",
      "metadata": {
        "id": "yiyuHe1OeT5N"
      },
      "source": [
        "## Encoder"
      ]
    },
    {
      "cell_type": "code",
      "metadata": {
        "id": "UV0ZMH7KT_KZ"
      },
      "source": [
        "class EncoderLayer(layers.Layer):\n",
        "\n",
        "    def __init__(self, FFN_units, nb_proj, dropout_rate):\n",
        "      super(EncoderLayer, self).__init__()\n",
        "      self.FFN_units = FFN_units\n",
        "      self.nb_proj = nb_proj\n",
        "      self.dropout_rate = dropout_rate\n",
        "\n",
        "    def build(self, input_shape):\n",
        "      self.d_model = input_shape[-1]\n",
        "\n",
        "      self.multi_head_attention = MultiHeadAttention(self.nb_proj)\n",
        "      self.dropout_1 = layers.Dropout(rate=self.dropout_rate)\n",
        "      self.norm_1 = layers.LayerNormalization(epsilon=1e-6) # 0.0000001\n",
        "\n",
        "      self.dense_1 = layers.Dense(units=self.FFN_units, activation='relu')\n",
        "      self.dense_2 = layers.Dense(units=self.d_model, activation='relu')\n",
        "      self.dropout_2 = layers.Dropout(rate=self.dropout_rate)\n",
        "\n",
        "      self.norm_2 = layers.LayerNormalization(epsilon=1e-6)\n",
        "\n",
        "    def call(self, inputs, mask, training):\n",
        "      attention = self.multi_head_attention(inputs, inputs, inputs, mask)\n",
        "      attention = self.dropout_1(attention, training = training)\n",
        "      attention = self.norm_1(attention + inputs)\n",
        "\n",
        "      outputs = self.dense_1(attention)\n",
        "      outputs = self.dense_2(outputs)\n",
        "      outputs = self.dropout_2(outputs, training=training)\n",
        "      outputs = self.norm_2(outputs + attention)\n",
        "\n",
        "      return outputs"
      ],
      "execution_count": null,
      "outputs": []
    },
    {
      "cell_type": "code",
      "metadata": {
        "id": "P-P92KeZih60"
      },
      "source": [
        "class Encoder(layers.Layer):\n",
        "\n",
        "    def __init__(self,\n",
        "                 nb_layers,\n",
        "                 FFN_units,\n",
        "                 nb_proj,\n",
        "                 dropout_rate,\n",
        "                 vocab_size,\n",
        "                 d_model,\n",
        "                 name=\"encoder\"):\n",
        "      super(Encoder, self).__init__(name=name)\n",
        "      self.nb_layers = nb_layers\n",
        "      self.d_model = d_model\n",
        "\n",
        "      self.embedding = layers.Embedding(vocab_size, d_model)\n",
        "      self.pos_encoding = PositionalEncoding()\n",
        "      self.dropout = layers.Dropout(rate=dropout_rate)\n",
        "      self.enc_layers = [EncoderLayer(FFN_units, nb_proj, dropout_rate) for _ in range(nb_layers)]\n",
        "\n",
        "\n",
        "    def call(self, inputs, mask, training):\n",
        "      outputs = self.embedding(inputs)\n",
        "      outputs *= tf.math.sqrt(tf.cast(self.d_model, tf.float32))\n",
        "      outputs = self.pos_encoding(outputs)\n",
        "      outputs = self.dropout(outputs, training)\n",
        "\n",
        "      for i in range(self.nb_layers):\n",
        "        outputs = self.enc_layers[i](outputs, mask, training)\n",
        "\n",
        "      return outputs"
      ],
      "execution_count": null,
      "outputs": []
    },
    {
      "cell_type": "markdown",
      "metadata": {
        "id": "7DthraBEwuvl"
      },
      "source": [
        "## Decoder"
      ]
    },
    {
      "cell_type": "code",
      "metadata": {
        "id": "7ZWZyFBnwy8u"
      },
      "source": [
        "class DecoderLayer(layers.Layer):\n",
        "\n",
        "    def __init__(self, FFN_units, nb_proj, dropout_rate):\n",
        "      super(DecoderLayer, self).__init__()\n",
        "      self.FFN_units = FFN_units\n",
        "      self.nb_proj = nb_proj\n",
        "      self.dropout_rate = dropout_rate\n",
        "\n",
        "    def build(self, input_shape):\n",
        "      self.d_model = input_shape[-1]\n",
        "\n",
        "      self.multi_head_attention_1 = MultiHeadAttention(self.nb_proj)\n",
        "      self.dropout_1 = layers.Dropout(rate=self.dropout_rate)\n",
        "      self.norm_1 = layers.LayerNormalization(epsilon=1e-6)\n",
        "\n",
        "      self.multi_head_attention_2 = MultiHeadAttention(self.nb_proj)\n",
        "      self.dropout_2 = layers.Dropout(rate=self.dropout_rate)\n",
        "      self.norm_2 = layers.LayerNormalization(epsilon=1e-6)\n",
        "\n",
        "      self.dense_1 = layers.Dense(units = self.FFN_units, activation='relu')\n",
        "      self.dense_2 = layers.Dense(units = self.d_model, activation='relu')\n",
        "      self.dropout_3 = layers.Dropout(rate=self.dropout_rate)\n",
        "      self.norm_3 = layers.LayerNormalization(epsilon=1e-6)\n",
        "\n",
        "    def call(self, inputs, enc_outputs, mask_1, mask_2, training):\n",
        "      attention = self.multi_head_attention_1(inputs, inputs, inputs, mask_1)\n",
        "      attention = self.dropout_1(attention, training)\n",
        "      attention = self.norm_1(attention + inputs)\n",
        "\n",
        "      attention_2 = self.multi_head_attention_2(attention, enc_outputs, enc_outputs, mask_2)\n",
        "      attention_2 = self.dropout_2(attention_2, training)\n",
        "      attention_2 = self.norm_2(attention_2 + attention)\n",
        "\n",
        "      outputs = self.dense_1(attention_2)\n",
        "      outputs = self.dense_2(outputs)\n",
        "      outputs = self.dropout_3(outputs, training)\n",
        "      outputs = self.norm_3(outputs + attention_2)\n",
        "\n",
        "      return outputs"
      ],
      "execution_count": null,
      "outputs": []
    },
    {
      "cell_type": "code",
      "metadata": {
        "id": "kpzdiWHiwywF"
      },
      "source": [
        "class Decoder(layers.Layer):\n",
        "\n",
        "    def __init__(self,\n",
        "                 nb_layers,\n",
        "                 FFN_units,\n",
        "                 nb_proj,\n",
        "                 dropout_rate,\n",
        "                 vocab_size,\n",
        "                 d_model,\n",
        "                 name=\"decoder\"):\n",
        "      super(Decoder, self).__init__(name=name)\n",
        "      self.d_model = d_model\n",
        "      self.nb_layers = nb_layers\n",
        "\n",
        "      self.embedding = layers.Embedding(vocab_size, d_model)\n",
        "      self.pos_encoding = PositionalEncoding()\n",
        "      self.dropout = layers.Dropout(rate=dropout_rate)\n",
        "\n",
        "      self.dec_layers = [DecoderLayer(FFN_units, nb_proj, dropout_rate) for i in range(nb_layers)]\n",
        "\n",
        "    def call(self, inputs, enc_outputs, mask_1, mask_2, training):\n",
        "      outputs = self.embedding(inputs)\n",
        "      outputs *= tf.math.sqrt(tf.cast(self.d_model, tf.float32))\n",
        "      outputs = self.pos_encoding(outputs)\n",
        "      outputs = self.dropout(outputs, training)\n",
        "\n",
        "      for i in range(self.nb_layers):\n",
        "        outputs = self.dec_layers[i](outputs, enc_outputs, mask_1, mask_2, training)\n",
        "\n",
        "      return outputs"
      ],
      "execution_count": null,
      "outputs": []
    },
    {
      "cell_type": "markdown",
      "metadata": {
        "id": "x5sJYkjbz5DD"
      },
      "source": [
        "## Transformer\n",
        "\n",
        "- Matriz triangular: https://mundoeducacao.bol.uol.com.br/matematica/matriz-triangular.htm"
      ]
    },
    {
      "cell_type": "code",
      "metadata": {
        "id": "GqvqNjJPwyh-"
      },
      "source": [
        "class Transformer(tf.keras.Model):\n",
        "\n",
        "    def __init__(self,\n",
        "                 vocab_size_enc,\n",
        "                 vocab_size_dec,\n",
        "                 d_model,\n",
        "                 nb_layers,\n",
        "                 FFN_units,\n",
        "                 nb_proj,\n",
        "                 dropout_rate,\n",
        "                 name=\"transformer\"):\n",
        "        super(Transformer, self).__init__(name=name)\n",
        "\n",
        "        self.encoder = Encoder(nb_layers, FFN_units, nb_proj, dropout_rate,\n",
        "                               vocab_size_enc, d_model)\n",
        "        self.decoder = Decoder(nb_layers, FFN_units, nb_proj, dropout_rate,\n",
        "                               vocab_size_dec, d_model)\n",
        "        self.last_linear = layers.Dense(units=vocab_size_dec, name='lin_output')\n",
        "\n",
        "    def create_padding_mask(self, seq): # (batch_size, seq_length) -> (batch_size, nb_proj, seq_lenght, d_proj)\n",
        "      mask = tf.cast(tf.math.equal(seq, 0), tf.float32)\n",
        "      return mask[:, tf.newaxis, tf.newaxis, :]\n",
        "\n",
        "    def create_look_ahead_mask(self, seq):\n",
        "      seq_len = tf.shape(seq)[1]\n",
        "      look_ahed_mask = 1 - tf.linalg.band_part(tf.ones((seq_len, seq_len)), -1, 0)\n",
        "      return look_ahed_mask\n",
        "\n",
        "    def call(self, enc_inputs, dec_inputs, training):\n",
        "      enc_mask = self.create_padding_mask(enc_inputs)\n",
        "      dec_mask_1 = tf.maximum(self.create_padding_mask(dec_inputs), self.create_look_ahead_mask(dec_inputs))\n",
        "      dec_mask_2 = self.create_padding_mask(enc_inputs)\n",
        "\n",
        "      enc_outputs = self.encoder(enc_inputs, enc_mask, training)\n",
        "      dec_outputs = self.decoder(dec_inputs, enc_outputs, dec_mask_1, dec_mask_2, training)\n",
        "\n",
        "      outputs = self.last_linear(dec_outputs)\n",
        "\n",
        "      return outputs"
      ],
      "execution_count": null,
      "outputs": []
    },
    {
      "cell_type": "markdown",
      "metadata": {
        "id": "bA9xWT8YQwop"
      },
      "source": [
        "## Código somente para testes"
      ]
    },
    {
      "cell_type": "code",
      "metadata": {
        "id": "tUact3PNMdF8"
      },
      "source": [
        "# Código somente para testes\n",
        "\n",
        "def create_padding_mask(seq): # (batch_size, seq_length) -> (batch_size, nb_proj, seq_lenght, d_proj)\n",
        "  mask = tf.cast(tf.math.equal(seq, 0), tf.float32)\n",
        "  return mask[:, tf.newaxis, tf.newaxis, :]\n",
        "\n",
        "def create_look_ahead_mask(seq):\n",
        "  seq_len = tf.shape(seq)[1]\n",
        "  look_ahed_mask = 1 - tf.linalg.band_part(tf.ones((seq_len, seq_len)), -1, 0)\n",
        "  return look_ahed_mask"
      ],
      "execution_count": null,
      "outputs": []
    },
    {
      "cell_type": "code",
      "metadata": {
        "id": "Dt17R_45NrXZ"
      },
      "source": [
        "create_padding_mask(seq)"
      ],
      "execution_count": null,
      "outputs": []
    },
    {
      "cell_type": "code",
      "metadata": {
        "id": "8IrBb52AOZjJ"
      },
      "source": [
        "create_look_ahead_mask(seq)"
      ],
      "execution_count": null,
      "outputs": []
    },
    {
      "cell_type": "code",
      "metadata": {
        "id": "oArT_ZqMMkuK"
      },
      "source": [
        "seq = tf.cast([[837, 836, 0, 273, 8, 0, 0, 0]], tf.int32)\n",
        "tf.maximum(create_padding_mask(seq), create_look_ahead_mask(seq))"
      ],
      "execution_count": null,
      "outputs": []
    },
    {
      "cell_type": "markdown",
      "metadata": {
        "id": "-c-LRThUPrso"
      },
      "source": [
        "# Treinamento"
      ]
    },
    {
      "cell_type": "code",
      "metadata": {
        "id": "1z1SYWDhQ-_m"
      },
      "source": [
        "tf.keras.backend.clear_session()\n",
        "\n",
        "d_model = 128 # 512\n",
        "nb_layers = 4 # 6\n",
        "ffn_units = 512 # 2048\n",
        "nb_proj = 8 # 8\n",
        "dropout_rate = 0.1 # 0.1"
      ],
      "execution_count": null,
      "outputs": []
    },
    {
      "cell_type": "code",
      "metadata": {
        "id": "NLrkr3Z2xfB3"
      },
      "source": [
        "transformer = Transformer(vocab_size_enc=vocab_size_en,\n",
        "                          vocab_size_dec=vocab_size_pt,\n",
        "                          d_model=d_model,\n",
        "                          nb_layers=nb_layers,\n",
        "                          FFN_units=ffn_units,\n",
        "                          nb_proj=nb_proj,\n",
        "                          dropout_rate=dropout_rate)"
      ],
      "execution_count": null,
      "outputs": []
    },
    {
      "cell_type": "code",
      "metadata": {
        "id": "HTJf8byN0Hc4"
      },
      "source": [
        "loss_object = tf.keras.losses.SparseCategoricalCrossentropy(from_logits=True,\n",
        "                                                            reduction='none')"
      ],
      "execution_count": null,
      "outputs": []
    },
    {
      "cell_type": "code",
      "metadata": {
        "id": "ipaSsj7f1A-a"
      },
      "source": [
        "def loss_function(target, pred):\n",
        "  mask = tf.math.logical_not(tf.math.equal(target, 0))\n",
        "  loss_ = loss_object(target, pred)\n",
        "\n",
        "  mask = tf.cast(mask, dtype=loss_.dtype)\n",
        "  loss_ *= mask\n",
        "\n",
        "  return tf.reduce_mean(loss_)"
      ],
      "execution_count": null,
      "outputs": []
    },
    {
      "cell_type": "code",
      "metadata": {
        "id": "c0848DUA2Qer"
      },
      "source": [
        "train_loss = tf.keras.metrics.Mean(name='train_loss')\n",
        "train_accuracy = tf.keras.metrics.SparseCategoricalAccuracy(name='train_accuracy')"
      ],
      "execution_count": null,
      "outputs": []
    },
    {
      "cell_type": "code",
      "metadata": {
        "id": "mTtdQq4v2sN1"
      },
      "source": [
        "class CustomSchedule(tf.keras.optimizers.schedules.LearningRateSchedule):\n",
        "\n",
        "  def __init__(self, d_model, warmup_steps=4000):\n",
        "    super(CustomSchedule, self).__init__()\n",
        "\n",
        "    self.d_model = tf.cast(d_model, tf.float32)\n",
        "    self.warmup_steps = warmup_steps\n",
        "\n",
        "  def __call__(self, step):\n",
        "    arg1 = tf.math.rsqrt(step)\n",
        "    arg2 = step * (self.warmup_steps ** -1.5)\n",
        "\n",
        "    return tf.math.rsqrt(self.d_model) * tf.math.minimum(arg1, arg2)"
      ],
      "execution_count": null,
      "outputs": []
    },
    {
      "cell_type": "code",
      "metadata": {
        "id": "yYA3kAnP4okk"
      },
      "source": [
        "learning_rate = CustomSchedule(d_model)"
      ],
      "execution_count": null,
      "outputs": []
    },
    {
      "cell_type": "code",
      "metadata": {
        "id": "DzawICsM40Gc"
      },
      "source": [
        "optimizer = tf.keras.optimizers.Adam(learning_rate, beta_1=0.9, beta_2=0.98, epsilon=1e-9)"
      ],
      "execution_count": null,
      "outputs": []
    },
    {
      "cell_type": "code",
      "metadata": {
        "id": "MeVrjXDZ6BN_"
      },
      "source": [
        "checkpoint_path = \"/content/drive/My Drive/tradutor\"\n",
        "ckpt = tf.train.Checkpoint(transformer=transformer,\n",
        "                           optimizer=optimizer)\n",
        "ckpt_manager = tf.train.CheckpointManager(ckpt, checkpoint_path, max_to_keep=5)\n",
        "if ckpt_manager.latest_checkpoint:\n",
        "  ckpt.restore(ckpt_manager.latest_checkpoint)\n",
        "  print('Latest checkpoint restored')"
      ],
      "execution_count": null,
      "outputs": []
    },
    {
      "cell_type": "code",
      "metadata": {
        "id": "Ytr3z2nb7ICt"
      },
      "source": [
        "epochs = 10\n",
        "for epoch in range(epochs):\n",
        "  print('Start or epoch {}'.format(epoch + 1))\n",
        "  start = time.time()\n",
        "\n",
        "  train_loss.reset_states()\n",
        "  train_accuracy.reset_states()\n",
        "\n",
        "  for (batch, (enc_inputs, targets)) in enumerate(dataset):\n",
        "    dec_inputs = targets[:, :-1]\n",
        "    dec_outputs_real = targets[:, 1:]\n",
        "    with tf.GradientTape() as tape:\n",
        "      predictions = transformer(enc_inputs, dec_inputs, True)\n",
        "      loss = loss_function(dec_outputs_real, predictions)\n",
        "\n",
        "    gradients = tape.gradient(loss, transformer.trainable_variables)\n",
        "    optimizer.apply_gradients(zip(gradients, transformer.trainable_variables))\n",
        "\n",
        "    train_loss(loss)\n",
        "    train_accuracy(dec_outputs_real, predictions)\n",
        "\n",
        "    if batch % 50 == 0:\n",
        "      print('Epoch {} Batch {} Loss {:.4f} Accuracy {:.4f}'.format(epoch+1, batch, train_loss.result(), train_accuracy.result()))\n",
        "\n",
        "  ckpt_save_path = ckpt_manager.save()\n",
        "  print('Saving checkpoint for epoch {} at {}'.format(epoch + 1, ckpt_save_path))\n",
        "  print('Time taken for 1 epoch {} secs\\n'.format(time.time() - start))"
      ],
      "execution_count": null,
      "outputs": []
    },
    {
      "cell_type": "markdown",
      "metadata": {
        "id": "nmzyRwDrRGdq"
      },
      "source": [
        "# Avaliação"
      ]
    },
    {
      "cell_type": "code",
      "metadata": {
        "id": "_0pqI1RTpzwk"
      },
      "source": [
        "text = 'you are smart'\n",
        "text = [vocab_size_en - 2] + tokenizer_en.encode(text) + [vocab_size_en - 1]\n",
        "text"
      ],
      "execution_count": null,
      "outputs": []
    },
    {
      "cell_type": "code",
      "metadata": {
        "id": "dvGS3gUJqHI2"
      },
      "source": [
        "text = tf.expand_dims(text, axis=0)\n",
        "text.shape"
      ],
      "execution_count": null,
      "outputs": []
    },
    {
      "cell_type": "code",
      "metadata": {
        "id": "VAS70m-xq9M5"
      },
      "source": [
        "output = tf.expand_dims([vocab_size_pt - 2], axis = 0)\n",
        "output.shape"
      ],
      "execution_count": null,
      "outputs": []
    },
    {
      "cell_type": "code",
      "metadata": {
        "id": "XDtQcdvHqcVi"
      },
      "source": [
        "def evaluate(inp_sentence):\n",
        "  inp_sentence = [vocab_size_en - 2] + tokenizer_en.encode(inp_sentence) + [vocab_size_en - 1]\n",
        "  enc_input = tf.expand_dims(inp_sentence, axis=0)\n",
        "\n",
        "  output = tf.expand_dims([vocab_size_pt - 2], axis = 0)\n",
        "\n",
        "  # i am -> am happy\n",
        "\n",
        "  for _ in range(max_length):\n",
        "    # (1, seq_length, vocab_size)\n",
        "    predictions = transformer(enc_input, output, False)\n",
        "    prediction = predictions[:, -1:, :]\n",
        "\n",
        "    predicted_id = tf.cast(tf.argmax(prediction, axis=-1), tf.int32)\n",
        "\n",
        "    if predicted_id == vocab_size_pt - 1:\n",
        "      return tf.squeeze(output, axis=0)\n",
        "\n",
        "    output = tf.concat([output, predicted_id], axis=1)\n",
        "\n",
        "  return tf.squeeze(output, axis = 0)"
      ],
      "execution_count": null,
      "outputs": []
    },
    {
      "cell_type": "code",
      "metadata": {
        "id": "RyAABcHRtcms"
      },
      "source": [
        "def translate(sentence):\n",
        "  output = evaluate(sentence).numpy()\n",
        "\n",
        "  predicted_sentence = tokenizer_pt.decode([i for i in output if i < vocab_size_pt - 2])\n",
        "\n",
        "  print('Input: {}'.format(sentence))\n",
        "  print('Predicted translation: {}'.format(predicted_sentence))\n"
      ],
      "execution_count": null,
      "outputs": []
    },
    {
      "cell_type": "code",
      "metadata": {
        "id": "vfLt3wZmt3wa"
      },
      "source": [
        "translate(\"this is a really powerful tool\")"
      ],
      "execution_count": null,
      "outputs": []
    },
    {
      "cell_type": "markdown",
      "metadata": {
        "id": "a8GrBzcCxDaF"
      },
      "source": [
        "Melhorias\n",
        "\n",
        "- Utilizar a base de dados completa\n",
        "- Aumentar o tamanho da frase\n",
        "- Mudar os parâmetros"
      ]
    }
  ]
}